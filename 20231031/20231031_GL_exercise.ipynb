{
  "nbformat": 4,
  "nbformat_minor": 0,
  "metadata": {
    "colab": {
      "provenance": []
    },
    "kernelspec": {
      "name": "python3",
      "display_name": "Python 3"
    },
    "language_info": {
      "name": "python"
    }
  },
  "cells": [
    {
      "cell_type": "code",
      "source": [
        "a=int(input())\n",
        "b=int(a**0.5)\n",
        "index=0\n",
        "if a<2:\n",
        "  print(\"錯誤\")\n",
        "  index=1\n",
        "while index==0:\n",
        "  c=0\n",
        "  for i in range(2,b+1):\n",
        "    if a%i==0:\n",
        "      c=c+1\n",
        "      break\n",
        "    else:\n",
        "      continue\n",
        "  if c==0:\n",
        "    print(a)\n",
        "    break\n",
        "  else:\n",
        "    a=a-1"
      ],
      "metadata": {
        "colab": {
          "base_uri": "https://localhost:8080/"
        },
        "id": "HCyjd5PUlSrV",
        "outputId": "d8bd1fd2-e9e6-4725-d539-2b2484b3e859"
      },
      "execution_count": 11,
      "outputs": [
        {
          "output_type": "stream",
          "name": "stdout",
          "text": [
            "33\n",
            "31\n"
          ]
        }
      ]
    },
    {
      "cell_type": "code",
      "source": [
        "a=list(map(int,input(\"請輸入一串數字，並用小逗號隔開\").split(\",\")))\n",
        "b=len(a)\n",
        "g=[]\n",
        "for i in range(0,b):\n",
        "  c=0\n",
        "  for j in range(0,b):\n",
        "    if a[i]>a[j]:\n",
        "      c=c+1\n",
        "    else:\n",
        "      continue\n",
        "  g.append(c)\n",
        "print(g)"
      ],
      "metadata": {
        "colab": {
          "base_uri": "https://localhost:8080/"
        },
        "id": "UeFT4nSRmS1K",
        "outputId": "98c48011-ed26-433d-ed26-3ed226a28a73"
      },
      "execution_count": null,
      "outputs": [
        {
          "output_type": "stream",
          "name": "stdout",
          "text": [
            "請輸入一串數字，並用小逗號隔開1,4,5,8,1\n",
            "[0, 2, 3, 4, 0]\n"
          ]
        }
      ]
    },
    {
      "cell_type": "code",
      "source": [
        "a=str(input(\"輸入一串由0和1組成的字串\"))\n",
        "b=len(a)\n",
        "c=[]\n",
        "d=[]\n",
        "for i in range(0,b):\n",
        "  if a[i]==\"1\":\n",
        "    c.append(i)\n",
        "  else:\n",
        "    continue\n",
        "for i in range(0,b):\n",
        "  e=0\n",
        "  for j in c:\n",
        "    e=e+abs(i-j)\n",
        "  d.append(e)\n",
        "print(d)"
      ],
      "metadata": {
        "colab": {
          "base_uri": "https://localhost:8080/"
        },
        "id": "3UzUOvnWnOv9",
        "outputId": "bdc7ccc4-4eab-4448-8ba0-0012cb672ef7"
      },
      "execution_count": null,
      "outputs": [
        {
          "output_type": "stream",
          "name": "stdout",
          "text": [
            "輸入一串由0和1組成的字串001011\n",
            "[11, 8, 5, 4, 3, 4]\n"
          ]
        }
      ]
    }
  ]
}