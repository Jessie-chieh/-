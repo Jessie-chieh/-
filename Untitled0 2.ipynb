{
  "nbformat": 4,
  "nbformat_minor": 0,
  "metadata": {
    "colab": {
      "provenance": []
    },
    "kernelspec": {
      "name": "python3",
      "display_name": "Python 3"
    },
    "language_info": {
      "name": "python"
    }
  },
  "cells": [
    {
      "cell_type": "code",
      "execution_count": null,
      "metadata": {
        "colab": {
          "base_uri": "https://localhost:8080/"
        },
        "id": "o2s4Ce-DfTwN",
        "outputId": "1076adbd-e3d8-4082-fac4-0383476267cf"
      },
      "outputs": [
        {
          "output_type": "stream",
          "name": "stdout",
          "text": [
            "Hello World,my name is Jessie.\n"
          ]
        }
      ],
      "source": [
        "x='Hello World,my name is Jessie.'\n",
        "print(x)"
      ]
    },
    {
      "cell_type": "code",
      "source": [
        "今天的課程很充實，以前沒有寫Python的基礎，所以這是我第一次接觸，打出coding，讓我有一點成就感，希望可以繼續保持。"
      ],
      "metadata": {
        "id": "a4eV-XSngfUN"
      },
      "execution_count": null,
      "outputs": []
    }
  ]
}