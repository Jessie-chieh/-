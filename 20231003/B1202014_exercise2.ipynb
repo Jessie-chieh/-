{
  "nbformat": 4,
  "nbformat_minor": 0,
  "metadata": {
    "colab": {
      "provenance": []
    },
    "kernelspec": {
      "name": "python3",
      "display_name": "Python 3"
    },
    "language_info": {
      "name": "python"
    }
  },
  "cells": [
    {
      "cell_type": "code",
      "execution_count": null,
      "metadata": {
        "colab": {
          "base_uri": "https://localhost:8080/"
        },
        "id": "5o_H1msDdIhs",
        "outputId": "3ccb9db9-627b-49c7-d93e-99f7b6a954b2"
      },
      "outputs": [
        {
          "output_type": "stream",
          "name": "stdout",
          "text": [
            "['K', 'H', 'U']\n"
          ]
        }
      ],
      "source": [
        "a='C,B,A'\n",
        "b=['f','G','H']\n",
        "b=a.split(',')+b\n",
        "b[0]='K'\n",
        "del b[2]\n",
        "del b[1:4]\n",
        "b.append('U')\n",
        "print(b)"
      ]
    },
    {
      "cell_type": "code",
      "source": [
        "height=float(input('輸入身高:'))\n",
        "weight=float(input('輸入體重:'))\n",
        "height=height/100\n",
        "BMI=weight/height/height\n",
        "print('BMI:',float(BMI),)\n",
        "if BMI<18.5:\n",
        "  print('體位:過輕')\n",
        "elif 18.5<=BMI<24:\n",
        "  print('體位:適中')\n",
        "elif 24<=BMI<27:\n",
        "  print('體位:過重')\n",
        "elif BMI>=27:\n",
        "  print('體位:肥胖')\n",
        "\n"
      ],
      "metadata": {
        "colab": {
          "base_uri": "https://localhost:8080/"
        },
        "id": "qd9xVPF-j_XD",
        "outputId": "057b5189-755c-43cd-c642-10cd590c6bb8"
      },
      "execution_count": null,
      "outputs": [
        {
          "output_type": "stream",
          "name": "stdout",
          "text": [
            "輸入身高:165\n",
            "輸入體重:50\n",
            "BMI: 18.36547291092746\n",
            "體位:過輕\n"
          ]
        }
      ]
    }
  ]
}