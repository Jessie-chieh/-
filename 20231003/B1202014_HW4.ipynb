{
  "nbformat": 4,
  "nbformat_minor": 0,
  "metadata": {
    "colab": {
      "provenance": []
    },
    "kernelspec": {
      "name": "python3",
      "display_name": "Python 3"
    },
    "language_info": {
      "name": "python"
    }
  },
  "cells": [
    {
      "cell_type": "code",
      "execution_count": null,
      "metadata": {
        "colab": {
          "base_uri": "https://localhost:8080/"
        },
        "id": "4NrQoajCVC5l",
        "outputId": "082837de-a323-41d1-8736-517e0f12c50b"
      },
      "outputs": [
        {
          "output_type": "stream",
          "name": "stdout",
          "text": [
            "請輸入五個成績，用空格分開1 2 3 4 5\n",
            "3.0\n"
          ]
        }
      ],
      "source": [
        "a=input('請輸入五個成績，用空格分開')\n",
        "b=a.split()\n",
        "c=[int(i) for i in b]\n",
        "c.remove(min(c))\n",
        "c.remove(max(c))\n",
        "c=sum(c)/3\n",
        "print(c)"
      ]
    },
    {
      "cell_type": "code",
      "source": [
        "a=int(input('請輸入第一個數字'))\n",
        "b=int(input('請輸入第二個數字'))\n",
        "c=input(\"請輸入運算符號(+，-，*，/)\")\n",
        "if c=='+':\n",
        "  print(a+b)\n",
        "elif c=='-':\n",
        "  print(a-b)\n",
        "elif c=='*':\n",
        "  print(a*b)\n",
        "elif c=='/':\n",
        "  print(a/b)\n",
        "else:\n",
        "  print('輸入錯誤')"
      ],
      "metadata": {
        "colab": {
          "base_uri": "https://localhost:8080/"
        },
        "id": "j_iuKXoNf1e_",
        "outputId": "f9af8095-c7d9-4de2-a960-01325fa90afd"
      },
      "execution_count": null,
      "outputs": [
        {
          "output_type": "stream",
          "name": "stdout",
          "text": [
            "請輸入第一個數字5\n",
            "請輸入第二個數字8\n",
            "請輸入運算符號(+，-，*，/)*\n",
            "40\n"
          ]
        }
      ]
    },
    {
      "cell_type": "code",
      "source": [
        "a=int(input('請輸入年分'))\n",
        "if a<=1582:\n",
        "  if a%4==0:\n",
        "    print('閏年')\n",
        "  else:\n",
        "    print('平年')\n",
        "else:\n",
        "  if a%4==0:\n",
        "    if a%100==0:\n",
        "      if a%400==0:\n",
        "        print('閏年')\n",
        "      else:\n",
        "        print('平年')\n",
        "    else:\n",
        "      print('閏年')\n",
        "  else:\n",
        "    print('平年')"
      ],
      "metadata": {
        "colab": {
          "base_uri": "https://localhost:8080/"
        },
        "id": "VNAxoOf7h_yt",
        "outputId": "408e294c-ff87-473c-e42e-fff43bf86dcf"
      },
      "execution_count": null,
      "outputs": [
        {
          "output_type": "stream",
          "name": "stdout",
          "text": [
            "請輸入年分1681\n",
            "平年\n"
          ]
        }
      ]
    }
  ]
}