{
  "nbformat": 4,
  "nbformat_minor": 0,
  "metadata": {
    "colab": {
      "provenance": []
    },
    "kernelspec": {
      "name": "python3",
      "display_name": "Python 3"
    },
    "language_info": {
      "name": "python"
    }
  },
  "cells": [
    {
      "cell_type": "code",
      "execution_count": null,
      "metadata": {
        "colab": {
          "base_uri": "https://localhost:8080/"
        },
        "id": "a99whTbJ4DeY",
        "outputId": "27346504-2b79-4b23-8b98-e70c8511aa8e"
      },
      "outputs": [
        {
          "output_type": "stream",
          "name": "stdout",
          "text": [
            "        *\n",
            "       ***\n",
            "      *****\n",
            "     *******\n",
            "    *********\n",
            "   ***********\n",
            "  *************\n",
            " ***************\n",
            "*****************\n",
            "       ***\n",
            "       ***\n",
            "       ***\n",
            "       ***\n",
            "       ***\n"
          ]
        }
      ],
      "source": [
        "a=9\n",
        "for i in range(1,a+1):\n",
        "  b=\" \"*(a-i)\n",
        "  c=\"*\"*(2*i-1)\n",
        "  print(b+c)\n",
        "for i in range(5):\n",
        "  d=' '*(a-2)\n",
        "  e='*'*3\n",
        "  print(d+e)"
      ]
    },
    {
      "cell_type": "code",
      "source": [
        "import random\n",
        "\n",
        "def generate_answer():\n",
        "    digits = random.sample(range(10), 4)\n",
        "    return ''.join(map(str, digits))\n",
        "\n",
        "def check_guess(answer, guess):\n",
        "    A = 0\n",
        "    B = 0\n",
        "    for i in range(4):\n",
        "        if guess[i] == answer[i]:\n",
        "            A += 1\n",
        "        elif guess[i] in answer:\n",
        "            B += 1\n",
        "    return A, B\n",
        "\n",
        "def game():\n",
        "    answer = generate_answer()\n",
        "    print(\"請輸入四個數字(不會重複)\")\n",
        "    attempts = 0\n",
        "    while True:\n",
        "        guess = input(\"輸入四個數字(不會重複): \")\n",
        "        if len(guess) != 4 or not guess.isdigit() or len(set(guess)) != 4:\n",
        "            print(\"輸入數字過多，請輸入四個數字(不會重複)。\")\n",
        "            continue\n",
        "        A, B = check_guess(answer, guess)\n",
        "        attempts += 1\n",
        "        if A == 4:\n",
        "            print(f\"答對了！總共猜了{attempts}次。\")\n",
        "            break\n",
        "        else:\n",
        "            print(f\"{A}A{B}B\")\n",
        "if __name__ == \"__main__\":\n",
        "    game()\n"
      ],
      "metadata": {
        "colab": {
          "base_uri": "https://localhost:8080/"
        },
        "id": "sGD3HBzC6xnQ",
        "outputId": "37c989ae-e44e-4caa-ea3a-1fb5fb38fc3e"
      },
      "execution_count": null,
      "outputs": [
        {
          "output_type": "stream",
          "name": "stdout",
          "text": [
            "請輸入四個數字(不會重複)\n",
            "輸入四個數字(不會重複): 12345\n",
            "輸入數字過多，請輸入四個數字(不會重複)。\n",
            "輸入四個數字(不會重複): 2222\n",
            "輸入數字過多，請輸入四個數字(不會重複)。\n",
            "輸入四個數字(不會重複): 1234\n",
            "0A3B\n",
            "輸入四個數字(不會重複): 1235\n",
            "0A2B\n",
            "輸入四個數字(不會重複): 1245\n",
            "1A1B\n",
            "輸入四個數字(不會重複): 1345\n",
            "2A0B\n",
            "輸入四個數字(不會重複): 2346\n",
            "2A1B\n",
            "輸入四個數字(不會重複): 2347\n",
            "2A2B\n",
            "輸入四個數字(不會重複): 3247\n",
            "1A3B\n",
            "輸入四個數字(不會重複): 2374\n",
            "1A3B\n",
            "輸入四個數字(不會重複): 2437\n",
            "0A4B\n",
            "輸入四個數字(不會重複): 3742\n",
            "2A2B\n",
            "輸入四個數字(不會重複): 3724\n",
            "0A4B\n",
            "輸入四個數字(不會重複): 7342\n",
            "答對了！總共猜了12次。\n"
          ]
        }
      ]
    }
  ]
}