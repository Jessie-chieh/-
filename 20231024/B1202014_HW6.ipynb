{
  "nbformat": 4,
  "nbformat_minor": 0,
  "metadata": {
    "colab": {
      "provenance": []
    },
    "kernelspec": {
      "name": "python3",
      "display_name": "Python 3"
    },
    "language_info": {
      "name": "python"
    }
  },
  "cells": [
    {
      "cell_type": "code",
      "execution_count": null,
      "metadata": {
        "colab": {
          "base_uri": "https://localhost:8080/"
        },
        "id": "BPvvgTUGI0WQ",
        "outputId": "b02bc9e5-85be-4f66-f09f-0e759aa938e1"
      },
      "outputs": [
        {
          "output_type": "stream",
          "name": "stdout",
          "text": [
            "請輸入聖誕樹的高度（至少 7 層以上）：9\n",
            "        *\n",
            "       ***\n",
            "      *****\n",
            "     *******\n",
            "    *********\n",
            "   ***********\n",
            "  *************\n",
            " ***************\n",
            "*****************\n",
            "       ***\n",
            "       ***\n",
            "       ***\n",
            "       ***\n",
            "       ***\n"
          ]
        }
      ],
      "source": [
        "def a(b):\n",
        "    if b < 7:\n",
        "        print(\"聖誕樹的高度至少 7 層以上\")\n",
        "    else:\n",
        "        for i in range(1, b + 1):\n",
        "            c = \" \" * (b - i)\n",
        "            s = \"*\" * (2 * i - 1)\n",
        "            print(c + s)\n",
        "        for i in range(5):\n",
        "            d = \" \" * (b - 2)\n",
        "            t = \"*\" * 3\n",
        "            print(d + t)\n",
        "\n",
        "b = int(input(\"請輸入聖誕樹的高度（至少 7 層以上）：\"))\n",
        "a(b)"
      ]
    },
    {
      "cell_type": "code",
      "source": [
        "def a(height, weight):\n",
        "    try:\n",
        "        b = height / 100\n",
        "        bmi = weight / (b ** 2)\n",
        "\n",
        "        if 18.5 <= bmi < 24:\n",
        "            result = \"適中\"\n",
        "        elif bmi < 18.5:\n",
        "            result = \"過輕\"\n",
        "        elif 24 <=bmi <27:\n",
        "            result = \"過重\"\n",
        "        else:\n",
        "            result = \"肥胖\"\n",
        "\n",
        "        return bmi, result\n",
        "\n",
        "    except :\n",
        "        return \"輸入內容錯誤\"\n",
        "\n",
        "try:\n",
        "    height = float(input(\"身高（公分）：\"))\n",
        "    weight = float(input(\"體重：\"))\n",
        "\n",
        "    bmi, result = a(height, weight)\n",
        "    print(f\"BMI: {bmi}\")\n",
        "    print(f\"體位: {result}\")\n",
        "\n",
        "except :\n",
        "    print(\"輸入內容錯誤\")"
      ],
      "metadata": {
        "colab": {
          "base_uri": "https://localhost:8080/"
        },
        "id": "E-5v6StGJqct",
        "outputId": "43fce2db-3754-4d9b-a5e1-04d559e75f2e"
      },
      "execution_count": 15,
      "outputs": [
        {
          "output_type": "stream",
          "name": "stdout",
          "text": [
            "身高（公分）：180\n",
            "體重：86\n",
            "BMI: 26.54320987654321\n",
            "體位: 過重\n"
          ]
        }
      ]
    }
  ]
}